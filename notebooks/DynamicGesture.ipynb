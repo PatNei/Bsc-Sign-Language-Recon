{
 "cells": [
  {
   "cell_type": "markdown",
   "metadata": {},
   "source": [
    "# Basic dynamic model"
   ]
  },
  {
   "cell_type": "code",
   "execution_count": 1,
   "metadata": {},
   "outputs": [],
   "source": [
    "DATA_PATH = '../backend/data/dynamic_dataset'\n"
   ]
  },
  {
   "cell_type": "code",
   "execution_count": 2,
   "metadata": {},
   "outputs": [
    {
     "name": "stderr",
     "output_type": "stream",
     "text": [
      "2024-03-11 13:13:21.960425: I tensorflow/core/util/port.cc:113] oneDNN custom operations are on. You may see slightly different numerical results due to floating-point round-off errors from different computation orders. To turn them off, set the environment variable `TF_ENABLE_ONEDNN_OPTS=0`.\n",
      "2024-03-11 13:13:21.962494: I external/local_tsl/tsl/cuda/cudart_stub.cc:31] Could not find cuda drivers on your machine, GPU will not be used.\n",
      "2024-03-11 13:13:21.991336: E external/local_xla/xla/stream_executor/cuda/cuda_dnn.cc:9261] Unable to register cuDNN factory: Attempting to register factory for plugin cuDNN when one has already been registered\n",
      "2024-03-11 13:13:21.991364: E external/local_xla/xla/stream_executor/cuda/cuda_fft.cc:607] Unable to register cuFFT factory: Attempting to register factory for plugin cuFFT when one has already been registered\n",
      "2024-03-11 13:13:21.992164: E external/local_xla/xla/stream_executor/cuda/cuda_blas.cc:1515] Unable to register cuBLAS factory: Attempting to register factory for plugin cuBLAS when one has already been registered\n",
      "2024-03-11 13:13:21.996958: I external/local_tsl/tsl/cuda/cudart_stub.cc:31] Could not find cuda drivers on your machine, GPU will not be used.\n",
      "2024-03-11 13:13:21.997498: I tensorflow/core/platform/cpu_feature_guard.cc:182] This TensorFlow binary is optimized to use available CPU instructions in performance-critical operations.\n",
      "To enable the following instructions: AVX2 AVX512F AVX512_VNNI FMA, in other operations, rebuild TensorFlow with the appropriate compiler flags.\n",
      "2024-03-11 13:13:22.897221: W tensorflow/compiler/tf2tensorrt/utils/py_utils.cc:38] TF-TRT Warning: Could not find TensorRT\n",
      "WARNING: All log messages before absl::InitializeLog() is called are written to STDERR\n",
      "I0000 00:00:1710159203.962298   46181 gl_context_egl.cc:85] Successfully initialized EGL. Major : 1 Minor: 5\n",
      "I0000 00:00:1710159203.964478   46289 gl_context.cc:344] GL version: 3.2 (OpenGL ES 3.2 Mesa 23.3.2-1pop0~1704238321~22.04~36f1d0e), renderer: Mesa Intel(R) Xe Graphics (TGL GT2)\n",
      "INFO: Created TensorFlow Lite XNNPACK delegate for CPU.\n"
     ]
    },
    {
     "name": "stdout",
     "output_type": "stream",
     "text": [
      "['2_1.jpg', '2_2.jpg', '2_3.jpg', '2_4.jpg', '2_5.jpg', '2_6.jpg', '2_7.jpg', '2_8.jpg', '2_9.jpg', '2_10.jpg', '2_11.jpg', '2_12.jpg', '2_13.jpg', '2_14.jpg', '6_1.jpg', '6_2.jpg', '6_3.jpg', '6_4.jpg', '6_5.jpg', '6_6.jpg', '6_7.jpg', '6_8.jpg', '6_9.jpg', '6_10.jpg', '6_11.jpg', '6_12.jpg', '6_13.jpg', '6_14.jpg', '10_1.jpg', '10_2.jpg', '10_3.jpg', '10_4.jpg', '10_5.jpg', '10_6.jpg', '10_7.jpg', '10_8.jpg', '10_9.jpg', '10_10.jpg', '10_11.jpg', '10_12.jpg', '10_13.jpg', '10_14.jpg']\n",
      "['3_1.jpg', '3_2.jpg', '3_3.jpg', '3_4.jpg', '3_5.jpg', '3_6.jpg', '3_7.jpg', '3_8.jpg', '3_9.jpg', '3_10.jpg', '3_11.jpg', '3_12.jpg', '3_13.jpg', '3_14.jpg', '6_1.jpg', '6_2.jpg', '6_3.jpg', '6_4.jpg', '6_5.jpg', '6_6.jpg', '6_7.jpg', '6_8.jpg', '6_9.jpg', '6_10.jpg', '6_11.jpg', '6_12.jpg', '6_13.jpg', '6_14.jpg', '8_1.jpg', '8_2.jpg', '8_3.jpg', '8_4.jpg', '8_5.jpg', '8_6.jpg', '8_7.jpg', '8_8.jpg', '8_9.jpg', '8_10.jpg', '8_11.jpg', '8_12.jpg', '8_13.jpg', '8_14.jpg']\n"
     ]
    }
   ],
   "source": [
    "#Load DATA\n",
    "from sign.training.landmark_extraction.MediaPiper import MediaPiper\n",
    "\n",
    "mp = MediaPiper()\n",
    "gestures = mp.process_dynamic_gestures_from_folder(DATA_PATH)"
   ]
  },
  {
   "cell_type": "code",
   "execution_count": 3,
   "metadata": {},
   "outputs": [
    {
     "data": {
      "text/plain": [
       "['fist-up', 'fist-down']"
      ]
     },
     "execution_count": 3,
     "metadata": {},
     "output_type": "execute_result"
    }
   ],
   "source": [
    "[gesture.label for gesture in gestures]"
   ]
  },
  {
   "cell_type": "code",
   "execution_count": 6,
   "metadata": {},
   "outputs": [
    {
     "name": "stdout",
     "output_type": "stream",
     "text": [
      "🔥🔥 TrajectoryBuilder is now running in BERTRAM_MODE 🔥🔥\n",
      "{'fist-up': [trajectory(directions=[trajectory_element(x=<direction.STATIONARY: 0>, y=<direction.DOWN: -1>, z=<direction.UP: 1>), trajectory_element(x=<direction.STATIONARY: 0>, y=<direction.DOWN: -1>, z=<direction.DOWN: -1>), trajectory_element(x=<direction.STATIONARY: 0>, y=<direction.DOWN: -1>, z=<direction.UP: 1>), trajectory_element(x=<direction.STATIONARY: 0>, y=<direction.DOWN: -1>, z=<direction.STATIONARY: 0>), trajectory_element(x=<direction.STATIONARY: 0>, y=<direction.DOWN: -1>, z=<direction.STATIONARY: 0>), trajectory_element(x=<direction.STATIONARY: 0>, y=<direction.DOWN: -1>, z=<direction.STATIONARY: 0>), trajectory_element(x=<direction.STATIONARY: 0>, y=<direction.DOWN: -1>, z=<direction.STATIONARY: 0>), trajectory_element(x=<direction.STATIONARY: 0>, y=<direction.DOWN: -1>, z=<direction.STATIONARY: 0>), trajectory_element(x=<direction.STATIONARY: 0>, y=<direction.DOWN: -1>, z=<direction.STATIONARY: 0>), trajectory_element(x=<direction.STATIONARY: 0>, y=<direction.DOWN: -1>, z=<direction.STATIONARY: 0>), trajectory_element(x=<direction.STATIONARY: 0>, y=<direction.DOWN: -1>, z=<direction.DOWN: -1>), trajectory_element(x=<direction.STATIONARY: 0>, y=<direction.DOWN: -1>, z=<direction.STATIONARY: 0>), trajectory_element(x=<direction.STATIONARY: 0>, y=<direction.DOWN: -1>, z=<direction.STATIONARY: 0>)]), trajectory(directions=[trajectory_element(x=<direction.STATIONARY: 0>, y=<direction.DOWN: -1>, z=<direction.STATIONARY: 0>), trajectory_element(x=<direction.STATIONARY: 0>, y=<direction.DOWN: -1>, z=<direction.STATIONARY: 0>), trajectory_element(x=<direction.STATIONARY: 0>, y=<direction.DOWN: -1>, z=<direction.STATIONARY: 0>), trajectory_element(x=<direction.STATIONARY: 0>, y=<direction.DOWN: -1>, z=<direction.STATIONARY: 0>), trajectory_element(x=<direction.STATIONARY: 0>, y=<direction.DOWN: -1>, z=<direction.STATIONARY: 0>), trajectory_element(x=<direction.STATIONARY: 0>, y=<direction.DOWN: -1>, z=<direction.UP: 1>), trajectory_element(x=<direction.STATIONARY: 0>, y=<direction.DOWN: -1>, z=<direction.DOWN: -1>), trajectory_element(x=<direction.STATIONARY: 0>, y=<direction.DOWN: -1>, z=<direction.STATIONARY: 0>), trajectory_element(x=<direction.STATIONARY: 0>, y=<direction.DOWN: -1>, z=<direction.STATIONARY: 0>), trajectory_element(x=<direction.STATIONARY: 0>, y=<direction.DOWN: -1>, z=<direction.STATIONARY: 0>), trajectory_element(x=<direction.STATIONARY: 0>, y=<direction.DOWN: -1>, z=<direction.STATIONARY: 0>), trajectory_element(x=<direction.STATIONARY: 0>, y=<direction.DOWN: -1>, z=<direction.STATIONARY: 0>)]), trajectory(directions=[trajectory_element(x=<direction.STATIONARY: 0>, y=<direction.DOWN: -1>, z=<direction.STATIONARY: 0>), trajectory_element(x=<direction.STATIONARY: 0>, y=<direction.DOWN: -1>, z=<direction.STATIONARY: 0>), trajectory_element(x=<direction.STATIONARY: 0>, y=<direction.DOWN: -1>, z=<direction.STATIONARY: 0>), trajectory_element(x=<direction.STATIONARY: 0>, y=<direction.DOWN: -1>, z=<direction.STATIONARY: 0>), trajectory_element(x=<direction.STATIONARY: 0>, y=<direction.DOWN: -1>, z=<direction.STATIONARY: 0>), trajectory_element(x=<direction.STATIONARY: 0>, y=<direction.DOWN: -1>, z=<direction.STATIONARY: 0>), trajectory_element(x=<direction.STATIONARY: 0>, y=<direction.DOWN: -1>, z=<direction.STATIONARY: 0>), trajectory_element(x=<direction.STATIONARY: 0>, y=<direction.DOWN: -1>, z=<direction.STATIONARY: 0>), trajectory_element(x=<direction.STATIONARY: 0>, y=<direction.DOWN: -1>, z=<direction.STATIONARY: 0>), trajectory_element(x=<direction.STATIONARY: 0>, y=<direction.DOWN: -1>, z=<direction.STATIONARY: 0>), trajectory_element(x=<direction.STATIONARY: 0>, y=<direction.DOWN: -1>, z=<direction.STATIONARY: 0>), trajectory_element(x=<direction.STATIONARY: 0>, y=<direction.DOWN: -1>, z=<direction.STATIONARY: 0>), trajectory_element(x=<direction.STATIONARY: 0>, y=<direction.DOWN: -1>, z=<direction.STATIONARY: 0>)])], 'fist-down': [trajectory(directions=[trajectory_element(x=<direction.DOWN: -1>, y=<direction.UP: 1>, z=<direction.UP: 1>), trajectory_element(x=<direction.STATIONARY: 0>, y=<direction.UP: 1>, z=<direction.UP: 1>), trajectory_element(x=<direction.STATIONARY: 0>, y=<direction.UP: 1>, z=<direction.STATIONARY: 0>), trajectory_element(x=<direction.STATIONARY: 0>, y=<direction.UP: 1>, z=<direction.STATIONARY: 0>), trajectory_element(x=<direction.STATIONARY: 0>, y=<direction.UP: 1>, z=<direction.STATIONARY: 0>), trajectory_element(x=<direction.STATIONARY: 0>, y=<direction.UP: 1>, z=<direction.STATIONARY: 0>), trajectory_element(x=<direction.STATIONARY: 0>, y=<direction.UP: 1>, z=<direction.DOWN: -1>), trajectory_element(x=<direction.DOWN: -1>, y=<direction.UP: 1>, z=<direction.STATIONARY: 0>), trajectory_element(x=<direction.STATIONARY: 0>, y=<direction.UP: 1>, z=<direction.STATIONARY: 0>), trajectory_element(x=<direction.STATIONARY: 0>, y=<direction.UP: 1>, z=<direction.DOWN: -1>), trajectory_element(x=<direction.STATIONARY: 0>, y=<direction.UP: 1>, z=<direction.STATIONARY: 0>), trajectory_element(x=<direction.STATIONARY: 0>, y=<direction.UP: 1>, z=<direction.DOWN: -1>)]), trajectory(directions=[trajectory_element(x=<direction.STATIONARY: 0>, y=<direction.UP: 1>, z=<direction.STATIONARY: 0>), trajectory_element(x=<direction.STATIONARY: 0>, y=<direction.UP: 1>, z=<direction.STATIONARY: 0>), trajectory_element(x=<direction.STATIONARY: 0>, y=<direction.UP: 1>, z=<direction.STATIONARY: 0>), trajectory_element(x=<direction.STATIONARY: 0>, y=<direction.UP: 1>, z=<direction.STATIONARY: 0>), trajectory_element(x=<direction.STATIONARY: 0>, y=<direction.UP: 1>, z=<direction.STATIONARY: 0>), trajectory_element(x=<direction.STATIONARY: 0>, y=<direction.UP: 1>, z=<direction.UP: 1>), trajectory_element(x=<direction.STATIONARY: 0>, y=<direction.UP: 1>, z=<direction.STATIONARY: 0>), trajectory_element(x=<direction.STATIONARY: 0>, y=<direction.UP: 1>, z=<direction.DOWN: -1>), trajectory_element(x=<direction.STATIONARY: 0>, y=<direction.UP: 1>, z=<direction.DOWN: -1>), trajectory_element(x=<direction.STATIONARY: 0>, y=<direction.UP: 1>, z=<direction.STATIONARY: 0>), trajectory_element(x=<direction.DOWN: -1>, y=<direction.UP: 1>, z=<direction.STATIONARY: 0>), trajectory_element(x=<direction.STATIONARY: 0>, y=<direction.UP: 1>, z=<direction.STATIONARY: 0>), trajectory_element(x=<direction.STATIONARY: 0>, y=<direction.UP: 1>, z=<direction.STATIONARY: 0>)]), trajectory(directions=[trajectory_element(x=<direction.STATIONARY: 0>, y=<direction.UP: 1>, z=<direction.STATIONARY: 0>), trajectory_element(x=<direction.STATIONARY: 0>, y=<direction.UP: 1>, z=<direction.STATIONARY: 0>), trajectory_element(x=<direction.STATIONARY: 0>, y=<direction.UP: 1>, z=<direction.STATIONARY: 0>), trajectory_element(x=<direction.STATIONARY: 0>, y=<direction.UP: 1>, z=<direction.STATIONARY: 0>), trajectory_element(x=<direction.STATIONARY: 0>, y=<direction.UP: 1>, z=<direction.STATIONARY: 0>), trajectory_element(x=<direction.STATIONARY: 0>, y=<direction.UP: 1>, z=<direction.STATIONARY: 0>), trajectory_element(x=<direction.DOWN: -1>, y=<direction.UP: 1>, z=<direction.STATIONARY: 0>), trajectory_element(x=<direction.DOWN: -1>, y=<direction.UP: 1>, z=<direction.STATIONARY: 0>), trajectory_element(x=<direction.DOWN: -1>, y=<direction.UP: 1>, z=<direction.STATIONARY: 0>), trajectory_element(x=<direction.DOWN: -1>, y=<direction.UP: 1>, z=<direction.STATIONARY: 0>), trajectory_element(x=<direction.STATIONARY: 0>, y=<direction.UP: 1>, z=<direction.STATIONARY: 0>), trajectory_element(x=<direction.STATIONARY: 0>, y=<direction.UP: 1>, z=<direction.STATIONARY: 0>), trajectory_element(x=<direction.STATIONARY: 0>, y=<direction.UP: 1>, z=<direction.STATIONARY: 0>)])]}\n"
     ]
    }
   ],
   "source": [
    "import numpy as np\n",
    "from sign.trajectory import TrajectoryBuilder, trajectory\n",
    "\n",
    "bob = TrajectoryBuilder()\n",
    "\n",
    "gesture_trajector_map: dict[str, list[trajectory]] = {}\n",
    "\n",
    "for gesture in gestures:\n",
    "    gesture_trajector_map[gesture.label] = []\n",
    "    for sequence in gesture.results:\n",
    "        new_sequence = []\n",
    "        for image_mp_res in sequence:\n",
    "            hand_landmarks = np.array(image_mp_res.multi_hand_landmarks)\n",
    "            new_sequence.append(hand_landmarks)\n",
    "        sequence_as_np_array = np.array(new_sequence)\n",
    "        sequence_trajectory = bob.make_trajectory(sequence_as_np_array)\n",
    "\n",
    "        gesture_trajector_map[gesture.label].append(sequence_trajectory)\n",
    "\n",
    "print(gesture_trajector_map)"
   ]
  },
  {
   "cell_type": "code",
   "execution_count": 23,
   "metadata": {},
   "outputs": [],
   "source": [
    "tmp = [(k, [v2.directions for v2 in v]) for (k,v) in gesture_trajector_map.items()]\n",
    "X = [tjs for _,tjs in tmp]\n",
    "y = [label for label,_ in tmp]\n",
    "\n",
    "for gesture in X:\n",
    "    min = len(gesture[0])\n",
    "    for trajectory in gesture[1:]:\n",
    "        length = len(trajectory)\n",
    "        if min > length:\n",
    "            min = length\n",
    "    for trajectory in gesture:\n",
    "        if len(trajectory) > min:\n",
    "            for i in range(len(trajectory) - min):\n",
    "                trajectory.pop()"
   ]
  },
  {
   "cell_type": "code",
   "execution_count": 25,
   "metadata": {},
   "outputs": [
    {
     "ename": "ValueError",
     "evalue": "Found array with dim 3. LinearRegression expected <= 2.",
     "output_type": "error",
     "traceback": [
      "\u001b[0;31m---------------------------------------------------------------------------\u001b[0m",
      "\u001b[0;31mValueError\u001b[0m                                Traceback (most recent call last)",
      "Cell \u001b[0;32mIn[25], line 4\u001b[0m\n\u001b[1;32m      1\u001b[0m \u001b[38;5;28;01mfrom\u001b[39;00m \u001b[38;5;21;01msklearn\u001b[39;00m\u001b[38;5;21;01m.\u001b[39;00m\u001b[38;5;21;01mlinear_model\u001b[39;00m \u001b[38;5;28;01mimport\u001b[39;00m LinearRegression\n\u001b[1;32m      3\u001b[0m model \u001b[38;5;241m=\u001b[39m LinearRegression()\n\u001b[0;32m----> 4\u001b[0m \u001b[43mmodel\u001b[49m\u001b[38;5;241;43m.\u001b[39;49m\u001b[43mfit\u001b[49m\u001b[43m(\u001b[49m\u001b[43mX\u001b[49m\u001b[43m,\u001b[49m\u001b[43my\u001b[49m\u001b[43m)\u001b[49m\n",
      "File \u001b[0;32m~/Desktop/bach/Bsc-Sign-Language-Recon/backend/.venv/lib/python3.11/site-packages/sklearn/base.py:1474\u001b[0m, in \u001b[0;36m_fit_context.<locals>.decorator.<locals>.wrapper\u001b[0;34m(estimator, *args, **kwargs)\u001b[0m\n\u001b[1;32m   1467\u001b[0m     estimator\u001b[38;5;241m.\u001b[39m_validate_params()\n\u001b[1;32m   1469\u001b[0m \u001b[38;5;28;01mwith\u001b[39;00m config_context(\n\u001b[1;32m   1470\u001b[0m     skip_parameter_validation\u001b[38;5;241m=\u001b[39m(\n\u001b[1;32m   1471\u001b[0m         prefer_skip_nested_validation \u001b[38;5;129;01mor\u001b[39;00m global_skip_validation\n\u001b[1;32m   1472\u001b[0m     )\n\u001b[1;32m   1473\u001b[0m ):\n\u001b[0;32m-> 1474\u001b[0m     \u001b[38;5;28;01mreturn\u001b[39;00m \u001b[43mfit_method\u001b[49m\u001b[43m(\u001b[49m\u001b[43mestimator\u001b[49m\u001b[43m,\u001b[49m\u001b[43m \u001b[49m\u001b[38;5;241;43m*\u001b[39;49m\u001b[43margs\u001b[49m\u001b[43m,\u001b[49m\u001b[43m \u001b[49m\u001b[38;5;241;43m*\u001b[39;49m\u001b[38;5;241;43m*\u001b[39;49m\u001b[43mkwargs\u001b[49m\u001b[43m)\u001b[49m\n",
      "File \u001b[0;32m~/Desktop/bach/Bsc-Sign-Language-Recon/backend/.venv/lib/python3.11/site-packages/sklearn/linear_model/_base.py:578\u001b[0m, in \u001b[0;36mLinearRegression.fit\u001b[0;34m(self, X, y, sample_weight)\u001b[0m\n\u001b[1;32m    574\u001b[0m n_jobs_ \u001b[38;5;241m=\u001b[39m \u001b[38;5;28mself\u001b[39m\u001b[38;5;241m.\u001b[39mn_jobs\n\u001b[1;32m    576\u001b[0m accept_sparse \u001b[38;5;241m=\u001b[39m \u001b[38;5;28;01mFalse\u001b[39;00m \u001b[38;5;28;01mif\u001b[39;00m \u001b[38;5;28mself\u001b[39m\u001b[38;5;241m.\u001b[39mpositive \u001b[38;5;28;01melse\u001b[39;00m [\u001b[38;5;124m\"\u001b[39m\u001b[38;5;124mcsr\u001b[39m\u001b[38;5;124m\"\u001b[39m, \u001b[38;5;124m\"\u001b[39m\u001b[38;5;124mcsc\u001b[39m\u001b[38;5;124m\"\u001b[39m, \u001b[38;5;124m\"\u001b[39m\u001b[38;5;124mcoo\u001b[39m\u001b[38;5;124m\"\u001b[39m]\n\u001b[0;32m--> 578\u001b[0m X, y \u001b[38;5;241m=\u001b[39m \u001b[38;5;28;43mself\u001b[39;49m\u001b[38;5;241;43m.\u001b[39;49m\u001b[43m_validate_data\u001b[49m\u001b[43m(\u001b[49m\n\u001b[1;32m    579\u001b[0m \u001b[43m    \u001b[49m\u001b[43mX\u001b[49m\u001b[43m,\u001b[49m\u001b[43m \u001b[49m\u001b[43my\u001b[49m\u001b[43m,\u001b[49m\u001b[43m \u001b[49m\u001b[43maccept_sparse\u001b[49m\u001b[38;5;241;43m=\u001b[39;49m\u001b[43maccept_sparse\u001b[49m\u001b[43m,\u001b[49m\u001b[43m \u001b[49m\u001b[43my_numeric\u001b[49m\u001b[38;5;241;43m=\u001b[39;49m\u001b[38;5;28;43;01mTrue\u001b[39;49;00m\u001b[43m,\u001b[49m\u001b[43m \u001b[49m\u001b[43mmulti_output\u001b[49m\u001b[38;5;241;43m=\u001b[39;49m\u001b[38;5;28;43;01mTrue\u001b[39;49;00m\n\u001b[1;32m    580\u001b[0m \u001b[43m\u001b[49m\u001b[43m)\u001b[49m\n\u001b[1;32m    582\u001b[0m has_sw \u001b[38;5;241m=\u001b[39m sample_weight \u001b[38;5;129;01mis\u001b[39;00m \u001b[38;5;129;01mnot\u001b[39;00m \u001b[38;5;28;01mNone\u001b[39;00m\n\u001b[1;32m    583\u001b[0m \u001b[38;5;28;01mif\u001b[39;00m has_sw:\n",
      "File \u001b[0;32m~/Desktop/bach/Bsc-Sign-Language-Recon/backend/.venv/lib/python3.11/site-packages/sklearn/base.py:650\u001b[0m, in \u001b[0;36mBaseEstimator._validate_data\u001b[0;34m(self, X, y, reset, validate_separately, cast_to_ndarray, **check_params)\u001b[0m\n\u001b[1;32m    648\u001b[0m         y \u001b[38;5;241m=\u001b[39m check_array(y, input_name\u001b[38;5;241m=\u001b[39m\u001b[38;5;124m\"\u001b[39m\u001b[38;5;124my\u001b[39m\u001b[38;5;124m\"\u001b[39m, \u001b[38;5;241m*\u001b[39m\u001b[38;5;241m*\u001b[39mcheck_y_params)\n\u001b[1;32m    649\u001b[0m     \u001b[38;5;28;01melse\u001b[39;00m:\n\u001b[0;32m--> 650\u001b[0m         X, y \u001b[38;5;241m=\u001b[39m \u001b[43mcheck_X_y\u001b[49m\u001b[43m(\u001b[49m\u001b[43mX\u001b[49m\u001b[43m,\u001b[49m\u001b[43m \u001b[49m\u001b[43my\u001b[49m\u001b[43m,\u001b[49m\u001b[43m \u001b[49m\u001b[38;5;241;43m*\u001b[39;49m\u001b[38;5;241;43m*\u001b[39;49m\u001b[43mcheck_params\u001b[49m\u001b[43m)\u001b[49m\n\u001b[1;32m    651\u001b[0m     out \u001b[38;5;241m=\u001b[39m X, y\n\u001b[1;32m    653\u001b[0m \u001b[38;5;28;01mif\u001b[39;00m \u001b[38;5;129;01mnot\u001b[39;00m no_val_X \u001b[38;5;129;01mand\u001b[39;00m check_params\u001b[38;5;241m.\u001b[39mget(\u001b[38;5;124m\"\u001b[39m\u001b[38;5;124mensure_2d\u001b[39m\u001b[38;5;124m\"\u001b[39m, \u001b[38;5;28;01mTrue\u001b[39;00m):\n",
      "File \u001b[0;32m~/Desktop/bach/Bsc-Sign-Language-Recon/backend/.venv/lib/python3.11/site-packages/sklearn/utils/validation.py:1263\u001b[0m, in \u001b[0;36mcheck_X_y\u001b[0;34m(X, y, accept_sparse, accept_large_sparse, dtype, order, copy, force_all_finite, ensure_2d, allow_nd, multi_output, ensure_min_samples, ensure_min_features, y_numeric, estimator)\u001b[0m\n\u001b[1;32m   1258\u001b[0m         estimator_name \u001b[38;5;241m=\u001b[39m _check_estimator_name(estimator)\n\u001b[1;32m   1259\u001b[0m     \u001b[38;5;28;01mraise\u001b[39;00m \u001b[38;5;167;01mValueError\u001b[39;00m(\n\u001b[1;32m   1260\u001b[0m         \u001b[38;5;124mf\u001b[39m\u001b[38;5;124m\"\u001b[39m\u001b[38;5;132;01m{\u001b[39;00mestimator_name\u001b[38;5;132;01m}\u001b[39;00m\u001b[38;5;124m requires y to be passed, but the target y is None\u001b[39m\u001b[38;5;124m\"\u001b[39m\n\u001b[1;32m   1261\u001b[0m     )\n\u001b[0;32m-> 1263\u001b[0m X \u001b[38;5;241m=\u001b[39m \u001b[43mcheck_array\u001b[49m\u001b[43m(\u001b[49m\n\u001b[1;32m   1264\u001b[0m \u001b[43m    \u001b[49m\u001b[43mX\u001b[49m\u001b[43m,\u001b[49m\n\u001b[1;32m   1265\u001b[0m \u001b[43m    \u001b[49m\u001b[43maccept_sparse\u001b[49m\u001b[38;5;241;43m=\u001b[39;49m\u001b[43maccept_sparse\u001b[49m\u001b[43m,\u001b[49m\n\u001b[1;32m   1266\u001b[0m \u001b[43m    \u001b[49m\u001b[43maccept_large_sparse\u001b[49m\u001b[38;5;241;43m=\u001b[39;49m\u001b[43maccept_large_sparse\u001b[49m\u001b[43m,\u001b[49m\n\u001b[1;32m   1267\u001b[0m \u001b[43m    \u001b[49m\u001b[43mdtype\u001b[49m\u001b[38;5;241;43m=\u001b[39;49m\u001b[43mdtype\u001b[49m\u001b[43m,\u001b[49m\n\u001b[1;32m   1268\u001b[0m \u001b[43m    \u001b[49m\u001b[43morder\u001b[49m\u001b[38;5;241;43m=\u001b[39;49m\u001b[43morder\u001b[49m\u001b[43m,\u001b[49m\n\u001b[1;32m   1269\u001b[0m \u001b[43m    \u001b[49m\u001b[43mcopy\u001b[49m\u001b[38;5;241;43m=\u001b[39;49m\u001b[43mcopy\u001b[49m\u001b[43m,\u001b[49m\n\u001b[1;32m   1270\u001b[0m \u001b[43m    \u001b[49m\u001b[43mforce_all_finite\u001b[49m\u001b[38;5;241;43m=\u001b[39;49m\u001b[43mforce_all_finite\u001b[49m\u001b[43m,\u001b[49m\n\u001b[1;32m   1271\u001b[0m \u001b[43m    \u001b[49m\u001b[43mensure_2d\u001b[49m\u001b[38;5;241;43m=\u001b[39;49m\u001b[43mensure_2d\u001b[49m\u001b[43m,\u001b[49m\n\u001b[1;32m   1272\u001b[0m \u001b[43m    \u001b[49m\u001b[43mallow_nd\u001b[49m\u001b[38;5;241;43m=\u001b[39;49m\u001b[43mallow_nd\u001b[49m\u001b[43m,\u001b[49m\n\u001b[1;32m   1273\u001b[0m \u001b[43m    \u001b[49m\u001b[43mensure_min_samples\u001b[49m\u001b[38;5;241;43m=\u001b[39;49m\u001b[43mensure_min_samples\u001b[49m\u001b[43m,\u001b[49m\n\u001b[1;32m   1274\u001b[0m \u001b[43m    \u001b[49m\u001b[43mensure_min_features\u001b[49m\u001b[38;5;241;43m=\u001b[39;49m\u001b[43mensure_min_features\u001b[49m\u001b[43m,\u001b[49m\n\u001b[1;32m   1275\u001b[0m \u001b[43m    \u001b[49m\u001b[43mestimator\u001b[49m\u001b[38;5;241;43m=\u001b[39;49m\u001b[43mestimator\u001b[49m\u001b[43m,\u001b[49m\n\u001b[1;32m   1276\u001b[0m \u001b[43m    \u001b[49m\u001b[43minput_name\u001b[49m\u001b[38;5;241;43m=\u001b[39;49m\u001b[38;5;124;43m\"\u001b[39;49m\u001b[38;5;124;43mX\u001b[39;49m\u001b[38;5;124;43m\"\u001b[39;49m\u001b[43m,\u001b[49m\n\u001b[1;32m   1277\u001b[0m \u001b[43m\u001b[49m\u001b[43m)\u001b[49m\n\u001b[1;32m   1279\u001b[0m y \u001b[38;5;241m=\u001b[39m _check_y(y, multi_output\u001b[38;5;241m=\u001b[39mmulti_output, y_numeric\u001b[38;5;241m=\u001b[39my_numeric, estimator\u001b[38;5;241m=\u001b[39mestimator)\n\u001b[1;32m   1281\u001b[0m check_consistent_length(X, y)\n",
      "File \u001b[0;32m~/Desktop/bach/Bsc-Sign-Language-Recon/backend/.venv/lib/python3.11/site-packages/sklearn/utils/validation.py:1043\u001b[0m, in \u001b[0;36mcheck_array\u001b[0;34m(array, accept_sparse, accept_large_sparse, dtype, order, copy, force_all_finite, ensure_2d, allow_nd, ensure_min_samples, ensure_min_features, estimator, input_name)\u001b[0m\n\u001b[1;32m   1038\u001b[0m     \u001b[38;5;28;01mraise\u001b[39;00m \u001b[38;5;167;01mValueError\u001b[39;00m(\n\u001b[1;32m   1039\u001b[0m         \u001b[38;5;124m\"\u001b[39m\u001b[38;5;124mdtype=\u001b[39m\u001b[38;5;124m'\u001b[39m\u001b[38;5;124mnumeric\u001b[39m\u001b[38;5;124m'\u001b[39m\u001b[38;5;124m is not compatible with arrays of bytes/strings.\u001b[39m\u001b[38;5;124m\"\u001b[39m\n\u001b[1;32m   1040\u001b[0m         \u001b[38;5;124m\"\u001b[39m\u001b[38;5;124mConvert your data to numeric values explicitly instead.\u001b[39m\u001b[38;5;124m\"\u001b[39m\n\u001b[1;32m   1041\u001b[0m     )\n\u001b[1;32m   1042\u001b[0m \u001b[38;5;28;01mif\u001b[39;00m \u001b[38;5;129;01mnot\u001b[39;00m allow_nd \u001b[38;5;129;01mand\u001b[39;00m array\u001b[38;5;241m.\u001b[39mndim \u001b[38;5;241m>\u001b[39m\u001b[38;5;241m=\u001b[39m \u001b[38;5;241m3\u001b[39m:\n\u001b[0;32m-> 1043\u001b[0m     \u001b[38;5;28;01mraise\u001b[39;00m \u001b[38;5;167;01mValueError\u001b[39;00m(\n\u001b[1;32m   1044\u001b[0m         \u001b[38;5;124m\"\u001b[39m\u001b[38;5;124mFound array with dim \u001b[39m\u001b[38;5;132;01m%d\u001b[39;00m\u001b[38;5;124m. \u001b[39m\u001b[38;5;132;01m%s\u001b[39;00m\u001b[38;5;124m expected <= 2.\u001b[39m\u001b[38;5;124m\"\u001b[39m\n\u001b[1;32m   1045\u001b[0m         \u001b[38;5;241m%\u001b[39m (array\u001b[38;5;241m.\u001b[39mndim, estimator_name)\n\u001b[1;32m   1046\u001b[0m     )\n\u001b[1;32m   1048\u001b[0m \u001b[38;5;28;01mif\u001b[39;00m force_all_finite:\n\u001b[1;32m   1049\u001b[0m     _assert_all_finite(\n\u001b[1;32m   1050\u001b[0m         array,\n\u001b[1;32m   1051\u001b[0m         input_name\u001b[38;5;241m=\u001b[39minput_name,\n\u001b[1;32m   1052\u001b[0m         estimator_name\u001b[38;5;241m=\u001b[39mestimator_name,\n\u001b[1;32m   1053\u001b[0m         allow_nan\u001b[38;5;241m=\u001b[39mforce_all_finite \u001b[38;5;241m==\u001b[39m \u001b[38;5;124m\"\u001b[39m\u001b[38;5;124mallow-nan\u001b[39m\u001b[38;5;124m\"\u001b[39m,\n\u001b[1;32m   1054\u001b[0m     )\n",
      "\u001b[0;31mValueError\u001b[0m: Found array with dim 3. LinearRegression expected <= 2."
     ]
    }
   ],
   "source": [
    "from sklearn.linear_model import LinearRegression\n",
    "\n",
    "model = LinearRegression()\n",
    "model.fit(X,y)"
   ]
  },
  {
   "cell_type": "code",
   "execution_count": null,
   "metadata": {},
   "outputs": [],
   "source": []
  }
 ],
 "metadata": {
  "kernelspec": {
   "display_name": ".venv",
   "language": "python",
   "name": "python3"
  },
  "language_info": {
   "codemirror_mode": {
    "name": "ipython",
    "version": 3
   },
   "file_extension": ".py",
   "mimetype": "text/x-python",
   "name": "python",
   "nbconvert_exporter": "python",
   "pygments_lexer": "ipython3",
   "version": "3.11.8"
  }
 },
 "nbformat": 4,
 "nbformat_minor": 2
}
