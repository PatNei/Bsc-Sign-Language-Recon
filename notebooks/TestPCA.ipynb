{
 "cells": [
  {
   "cell_type": "code",
   "execution_count": null,
   "metadata": {},
   "outputs": [],
   "source": [
    "from typing import Literal\n",
    "def _decide_target(left: list[list[float] | None], right: list[list[float] | None]) -> tuple[list[float], Literal[\"left\", \"right\"] | None] :\n",
    "            \"\"\"\n",
    "            Decides which hand to continue our preprocessing step for.\n",
    "            \n",
    "            That is, choosing the longest list when all 'None's are removed.\n",
    "            \"\"\"\n",
    "            left_landmarks = sum([elm for elm in left if elm is not None],[])\n",
    "            right_landmarks = sum([elm for elm in right if elm is not None],[])\n",
    "            target = max((left_landmarks, \"left\"), \n",
    "                        (right_landmarks,\"right\"), \n",
    "                        key=lambda x : len(x[0]))\n",
    "            if not target[0]: #both were full of \"None\" somehow??\n",
    "                return [],None\n",
    "            return target"
   ]
  },
  {
   "cell_type": "code",
   "execution_count": null,
   "metadata": {},
   "outputs": [],
   "source": [
    "import dynamic_signs.csv_reader as csv_reader\n",
    "import numpy as np\n",
    "\n",
    "from sign.trajectory import TrajectoryBuilder\n",
    "import time\n",
    "\n",
    "reader = csv_reader.csv_reader()\n",
    "#PATH = \"../backend/small_dyn.csv\"\n",
    "PATH = \"../backend/new_youtube.csv\"\n",
    "start = time.time()\n",
    "print(\"Loading data\")\n",
    "data = reader.extract_two_handed_landmarks(PATH)\n",
    "end = time.time()\n",
    "print(f\"Loading took {end-start} seconds\")\n",
    "\n",
    "bob = TrajectoryBuilder(target_len=6)\n",
    "xs = []\n",
    "ys:list[str]= []\n",
    "DIM = (-1,21,3)\n",
    "\n",
    "print(\"\")\n",
    "for label, videos in data.items():\n",
    "    for video_id, frames in videos.items():\n",
    "        left_frames, right_frames = zip(*[frame.get_landmarks() for frame in frames])\n",
    "        target, hand = _decide_target(left_frames, right_frames) \n",
    "        target = np.array(bob.enforce_target_length(list(np.array(target).reshape(DIM)))).flatten()\n",
    "        xs.append(target)\n",
    "        ys.append(label + \"_\" + str(hand))\n",
    "        #print(f\"{label} : {video_id} -> {hand}\")\n",
    "\n",
    "X = np.array(xs, dtype=np.float32)\n",
    "Y = np.array(ys)\n",
    "X.shape, len(Y)\n",
    "        "
   ]
  },
  {
   "cell_type": "code",
   "execution_count": null,
   "metadata": {},
   "outputs": [],
   "source": [
    "import matplotlib.pyplot as plt\n",
    "from sklearn import decomposition\n",
    "import mpl_toolkits.mplot3d \n",
    "\n",
    "fig = plt.figure(1, figsize=(4,3))\n",
    "plt.clf()\n",
    "\n",
    "ax = fig.add_subplot(111, projection=\"3d\", elev=48, azim=134)\n",
    "ax.set_position([0,0,1,2])#type: ignore\n",
    "\n",
    "\n",
    "plt.cla()\n",
    "pca = decomposition.PCA()\n",
    "pca.fit(X,Y)\n",
    "Xt = pca.transform(X)\n",
    "\n",
    "print(len(Xt[0]))\n",
    "#for name in Y:\n",
    "\n",
    "name = np.unique(Y)[69]\n",
    "ax.scatter(Xt[Y == name,1], Xt[Y == name,8])\n",
    "ax.text(\n",
    "    0,0,0,\n",
    "    s=name,\n",
    "    ha='left',\n",
    "    va='top',\n",
    "    transform=ax.transAxes\n",
    ")\n",
    "\n",
    "#list(zip(np.unique(Y),range(len(np.unique(Y)))))\n",
    "# for label, name in enumerate(np.unique(Y)):\n",
    "    \n",
    "#     ax.text3D(\n",
    "#         X[Y == name, 0].mean(),\n",
    "#         X[Y == name, 1].mean() + 1.5,\n",
    "#         X[Y == name, 2].mean(),\n",
    "#         name,\n",
    "#         horizontalalignment=\"center\",\n",
    "#         bbox=dict(alpha=0.5, edgecolor=\"w\", facecolor=\"w\"),\n",
    "#     )\n",
    "# # Reorder the labels to have colors matching the cluster results\n",
    "# y = np.choose(Y, [1, 2, 0]).astype(float)\n",
    "# ax.scatter(X[:, 0], X[:, 1], X[:, 2], c=y, cmap=plt.cm.nipy_spectral, edgecolor=\"k\")\n",
    "\n",
    "# ax.xaxis.set_ticklabels([])\n",
    "# ax.yaxis.set_ticklabels([])\n",
    "# ax.zaxis.set_ticklabels([])\n",
    "\n",
    "# plt.show()  \n"
   ]
  },
  {
   "cell_type": "code",
   "execution_count": 76,
   "metadata": {},
   "outputs": [
    {
     "name": "stdout",
     "output_type": "stream",
     "text": [
      "🔥🔥 TrajectoryBuilder is now running in BERTRAM_MODE 🔥🔥\n"
     ]
    },
    {
     "data": {
      "text/plain": [
       "'Len_train: 3000, Len_test: 751'"
      ]
     },
     "execution_count": 76,
     "metadata": {},
     "output_type": "execute_result"
    }
   ],
   "source": [
    "from sign.training.load_data.dynamic_loader import DynamicLoader\n",
    "\n",
    "loader = DynamicLoader(target_len=24)\n",
    "yt_data = loader.prepare_training_data(\"../backend/youtube_final_j_z.csv\")\n",
    "xs_train, ys_train, xs_test, ys_test = yt_data.spliterino()\n",
    "\n",
    "f\"Len_train: {len(xs_train)}, Len_test: {len(xs_test)}\""
   ]
  },
  {
   "cell_type": "code",
   "execution_count": 81,
   "metadata": {},
   "outputs": [
    {
     "data": {
      "text/plain": [
       "('Okay, Why, Wow, Yes, J, Again, Ready, Bye, Hello, Z', 'Len X: 1131')"
      ]
     },
     "execution_count": 81,
     "metadata": {},
     "output_type": "execute_result"
    }
   ],
   "source": [
    "import numpy as np\n",
    "uniques, counts = np.unique(ys_train, return_counts=True)\n",
    "unique_filter = uniques[counts > 100]\n",
    "length_filter = np.array([y for y in ys_train if len(y) > 2 or y in [\"J\", \"Z\"]])\n",
    "\n",
    "chosen_filter = length_filter\n",
    "indices = np.where(np.isin(ys_train, chosen_filter))\n",
    "#print(list(zip(uniques,counts)))\n",
    "\n",
    "X = np.array(xs_train)[indices]\n",
    "y = np.array(ys_train)[indices]\n",
    "\", \".join(set(y)), f\"Len X: {len(X)}\""
   ]
  },
  {
   "cell_type": "code",
   "execution_count": 82,
   "metadata": {},
   "outputs": [
    {
     "data": {
      "text/plain": [
       "{'fit_time': array([1.20194387, 1.22490621, 1.21279907, 1.20991588, 1.19858074]),\n",
       " 'score_time': array([0.0062139 , 0.00568986, 0.00474429, 0.00497961, 0.00499487]),\n",
       " 'test_score': array([0.72687225, 0.7079646 , 0.75221239, 0.73451327, 0.69469027])}"
      ]
     },
     "execution_count": 82,
     "metadata": {},
     "output_type": "execute_result"
    }
   ],
   "source": [
    "from sklearn.decomposition import PCA\n",
    "from sklearn.discriminant_analysis import StandardScaler\n",
    "from sklearn.ensemble import RandomForestClassifier\n",
    "from sklearn.linear_model import LogisticRegression\n",
    "from sklearn.svm import SVC\n",
    "from sklearn.pipeline import make_pipeline\n",
    "from sklearn.model_selection import cross_validate\n",
    "clf = RandomForestClassifier()\n",
    "#clf = make_pipeline(StandardScaler(), SVC(C=25, coef0=0.5, degree=4))\n",
    "#clf = LogisticRegression(max_iter=2_000)\n",
    "\n",
    "\n",
    "cross_validate(clf, X, y)"
   ]
  },
  {
   "cell_type": "code",
   "execution_count": 83,
   "metadata": {},
   "outputs": [
    {
     "name": "stdout",
     "output_type": "stream",
     "text": [
      "              precision    recall  f1-score   support\n",
      "\n",
      "       Again       0.38      0.28      0.32        40\n",
      "         Bye       0.36      0.20      0.26        84\n",
      "       Hello       0.52      0.84      0.64       252\n",
      "           J       0.97      0.98      0.98       193\n",
      "        Okay       0.36      0.14      0.20        37\n",
      "       Ready       0.65      0.53      0.58        49\n",
      "         Why       0.55      0.31      0.39        59\n",
      "         Wow       0.38      0.07      0.12        40\n",
      "         Yes       0.66      0.39      0.49        54\n",
      "           Z       0.97      0.99      0.98       323\n",
      "\n",
      "    accuracy                           0.73      1131\n",
      "   macro avg       0.58      0.47      0.50      1131\n",
      "weighted avg       0.71      0.73      0.70      1131\n",
      "\n"
     ]
    }
   ],
   "source": [
    "from sklearn.calibration import cross_val_predict\n",
    "from sklearn.metrics import classification_report\n",
    "\n",
    "cv_predictions = cross_val_predict(clf, X, y)\n",
    "print(classification_report(y, cv_predictions))"
   ]
  }
 ],
 "metadata": {
  "kernelspec": {
   "display_name": ".venv",
   "language": "python",
   "name": "python3"
  },
  "language_info": {
   "codemirror_mode": {
    "name": "ipython",
    "version": 3
   },
   "file_extension": ".py",
   "mimetype": "text/x-python",
   "name": "python",
   "nbconvert_exporter": "python",
   "pygments_lexer": "ipython3",
   "version": "3.11.8"
  }
 },
 "nbformat": 4,
 "nbformat_minor": 2
}
