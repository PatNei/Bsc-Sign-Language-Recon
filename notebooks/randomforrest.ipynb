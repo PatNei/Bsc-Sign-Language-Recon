{
 "cells": [
  {
   "cell_type": "code",
   "execution_count": 1,
   "metadata": {},
   "outputs": [],
   "source": [
    "DATA_PATH = '../backend/dynamic_signs/frames'\n",
    "CSV_PATH = '../out.csv'\n",
    "NUM_HANDS = 2"
   ]
  },
  {
   "cell_type": "code",
   "execution_count": 2,
   "metadata": {},
   "outputs": [
    {
     "name": "stderr",
     "output_type": "stream",
     "text": [
      "INFO: Created TensorFlow Lite XNNPACK delegate for CPU.\n",
      "[mjpeg @ 0xaaab0e97dc50] overread 8\n",
      "[mjpeg @ 0xaaab0e97dc50] overread 8\n",
      "[mjpeg @ 0xaaab0ea60340] overread 8\n",
      "[mjpeg @ 0xaaab0ea60340] overread 8\n",
      "[mjpeg @ 0xaaab0ea60340] overread 8\n",
      "[mjpeg @ 0xaaab0ea60340] overread 8\n",
      "[mjpeg @ 0xaaab0ea60340] overread 8\n",
      "[mjpeg @ 0xaaab0ea60340] overread 8\n",
      "[mjpeg @ 0xaaab0eb59560] overread 8\n",
      "[mjpeg @ 0xaaab0eb59560] overread 8\n",
      "[mjpeg @ 0xaaab0eb59560] overread 8\n",
      "[mjpeg @ 0xaaab0eb59560] overread 5\n",
      "[mjpeg @ 0xaaab0ec76e50] overread 8\n",
      "[mjpeg @ 0xaaab0eb3d760] overread 8\n",
      "[mjpeg @ 0xaaab0eb3d760] overread 4\n",
      "[mjpeg @ 0xaaab0eb3d760] overread 8\n",
      "[mjpeg @ 0xaaab0eb3d760] overread 8\n"
     ]
    }
   ],
   "source": [
    "# Extract landmarks from zip file.\n",
    "from dynamic_signs.landmark_extractor import DynamicLandmarkExtractor\n",
    "\n",
    "\n",
    "DLE = DynamicLandmarkExtractor(out_path=\"dynamicwhatever.csv\", num_hands=NUM_HANDS)\n",
    "DLE.process_video_dataset()\n",
    "mp = DLE.mediapiper"
   ]
  },
  {
   "cell_type": "code",
   "execution_count": null,
   "metadata": {},
   "outputs": [],
   "source": [
    "# Use this to load landmarks n shit\n",
    "\n",
    "# Load DATA\n",
    "from dynamic_signs.youtube_scraper import YouTubeScraper\n",
    "\n",
    "\n",
    "yt = YouTubeScraper()\n",
    "# yt.find_common_words(min_occurances=50, max=0)\n",
    "yt.get_video_signs(max=100,seconds_per_clip=1)\n",
    "\n"
   ]
  },
  {
   "cell_type": "markdown",
   "metadata": {},
   "source": []
  },
  {
   "cell_type": "code",
   "execution_count": null,
   "metadata": {},
   "outputs": [],
   "source": [
    "from sklearn.tree import DecisionTreeClassifier\n",
    "\n",
    "\n",
    "tree_clf = DecisionTreeClassifier(max_depth=2, random_state=42)"
   ]
  },
  {
   "cell_type": "code",
   "execution_count": null,
   "metadata": {},
   "outputs": [],
   "source": [
    "# Hvis gini scoren er for høj, kan det så betale sig at fjerne de cases hvor den går i stykker eller vil det bare få modellen til at overfitte?"
   ]
  },
  {
   "cell_type": "code",
   "execution_count": null,
   "metadata": {},
   "outputs": [],
   "source": [
    "from sklearn.ensemble import RandomForestClassifier, VotingClassifier\n",
    "from sklearn.linear_model import LogisticRegression\n",
    "from sklearn.svm import SVC\n",
    "\n",
    "\n",
    "voting_clf = VotingClassifier( estimators=[ ('lr', LogisticRegression(random_state=42)), ('rf', RandomForestClassifier(random_state=42)), ('svc', SVC(random_state=42)) ] ) \n",
    "\n",
    "voting_clf.fit(X_train, y_train)"
   ]
  }
 ],
 "metadata": {
  "kernelspec": {
   "display_name": ".venv",
   "language": "python",
   "name": "python3"
  },
  "language_info": {
   "codemirror_mode": {
    "name": "ipython",
    "version": 3
   },
   "file_extension": ".py",
   "mimetype": "text/x-python",
   "name": "python",
   "nbconvert_exporter": "python",
   "pygments_lexer": "ipython3",
   "version": "3.11.9"
  }
 },
 "nbformat": 4,
 "nbformat_minor": 2
}
