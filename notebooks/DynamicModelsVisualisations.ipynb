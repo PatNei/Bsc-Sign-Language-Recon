{
 "cells": [
  {
   "cell_type": "code",
   "execution_count": null,
   "metadata": {},
   "outputs": [],
   "source": [
    "import numpy as np\n",
    "\n",
    "from sign.CONST import AMOUNT_OF_KEYFRAMES\n",
    "\n",
    "from sign.training.load_data.dynamic_loader import DynamicLoader\n",
    "\n",
    "CSV_PATH = 'dyn_50_common_youtube_55p.csv'\n",
    "NUM_HANDS = 2\n",
    "\n",
    "dyna_lod = DynamicLoader(AMOUNT_OF_KEYFRAMES)\n",
    "training_data = dyna_lod.prepare_training_data(CSV_PATH)\n",
    "_,_,_xs_test,ys_test = training_data.spliterino(random_state=1)\n",
    "xs_test = np.array(_xs_test)\n"
   ]
  },
  {
   "cell_type": "markdown",
   "metadata": {},
   "source": [
    "# Linear regression Visualization"
   ]
  },
  {
   "cell_type": "code",
   "execution_count": null,
   "metadata": {},
   "outputs": [],
   "source": [
    "from joblib import load\n",
    "from matplotlib import pyplot as plt\n",
    "from sklearn.calibration import cross_val_predict\n",
    "from sklearn.discriminant_analysis import StandardScaler\n",
    "from sklearn.metrics import ConfusionMatrixDisplay, confusion_matrix, precision_score, recall_score\n",
    "from sklearn.model_selection import RandomizedSearchCV\n",
    "\n",
    "lr_clf:RandomizedSearchCV = load('dynamic_lr.joblib')\n",
    "\n",
    "labels_train_pred = cross_val_predict(lr_clf, xs_test, ys_test, cv=3)\n",
    "\n",
    "cm = confusion_matrix(ys_test, labels_train_pred)\n",
    "precision = precision_score(ys_test, labels_train_pred) \n",
    "recall = recall_score(ys_test, labels_train_pred)\n",
    "\n",
    "scaler = StandardScaler() \n",
    "landmarks_train_scaled = scaler.fit_transform(np.array(xs_test).astype(\"float64\")) \n",
    "ConfusionMatrixDisplay.from_predictions(ys_test, labels_train_pred)\n",
    "plt.show()"
   ]
  },
  {
   "cell_type": "markdown",
   "metadata": {},
   "source": [
    "# SVC / SVM visualization"
   ]
  },
  {
   "cell_type": "code",
   "execution_count": null,
   "metadata": {},
   "outputs": [],
   "source": [
    "from joblib import load\n",
    "from matplotlib import pyplot as plt\n",
    "from sklearn.calibration import cross_val_predict\n",
    "from sklearn.discriminant_analysis import StandardScaler\n",
    "from sklearn.metrics import ConfusionMatrixDisplay, confusion_matrix, precision_score, recall_score\n",
    "from sklearn.model_selection import RandomizedSearchCV\n",
    "\n",
    "svm_clf:RandomizedSearchCV = load('dynamic_svm.joblib')\n",
    "\n",
    "labels_train_pred = cross_val_predict(svm_clf, xs_test, ys_test, cv=3)\n",
    "\n",
    "cm = confusion_matrix(ys_test, labels_train_pred)\n",
    "precision = precision_score(ys_test, labels_train_pred) \n",
    "recall = recall_score(ys_test, labels_train_pred)\n",
    "\n",
    "scaler = StandardScaler() \n",
    "landmarks_train_scaled = scaler.fit_transform(np.array(xs_test).astype(\"float64\")) \n",
    "ConfusionMatrixDisplay.from_predictions(ys_test, labels_train_pred)\n",
    "plt.show()"
   ]
  },
  {
   "cell_type": "markdown",
   "metadata": {},
   "source": [
    "# Random Forest Classifier"
   ]
  },
  {
   "cell_type": "code",
   "execution_count": null,
   "metadata": {},
   "outputs": [],
   "source": [
    "from joblib import load\n",
    "from matplotlib import pyplot as plt\n",
    "from sklearn.calibration import cross_val_predict\n",
    "from sklearn.discriminant_analysis import StandardScaler\n",
    "from sklearn.metrics import ConfusionMatrixDisplay, confusion_matrix, precision_score, recall_score\n",
    "from sklearn.model_selection import RandomizedSearchCV\n",
    "\n",
    "rf_clf:RandomizedSearchCV = load('dynamic_rf.joblib')\n",
    "\n",
    "labels_train_pred = cross_val_predict(rf_clf, xs_test, ys_test, cv=3)\n",
    "\n",
    "cm = confusion_matrix(ys_test, labels_train_pred)\n",
    "precision = precision_score(ys_test, labels_train_pred) \n",
    "recall = recall_score(ys_test, labels_train_pred)\n",
    "\n",
    "scaler = StandardScaler() \n",
    "landmarks_train_scaled = scaler.fit_transform(np.array(xs_test).astype(\"float64\")) \n",
    "ConfusionMatrixDisplay.from_predictions(ys_test, labels_train_pred)\n",
    "plt.show()"
   ]
  },
  {
   "cell_type": "markdown",
   "metadata": {},
   "source": [
    "# Voting Classifier Visualisation"
   ]
  },
  {
   "cell_type": "code",
   "execution_count": null,
   "metadata": {},
   "outputs": [],
   "source": [
    "from joblib import load\n",
    "from matplotlib import pyplot as plt\n",
    "from sklearn.calibration import cross_val_predict\n",
    "from sklearn.discriminant_analysis import StandardScaler\n",
    "from sklearn.metrics import ConfusionMatrixDisplay, confusion_matrix, precision_score, recall_score\n",
    "from sklearn.model_selection import RandomizedSearchCV\n",
    "\n",
    "vote_clf:RandomizedSearchCV = load('dynamic_vc.joblib')\n",
    "\n",
    "labels_train_pred = cross_val_predict(vote_clf, xs_test, ys_test, cv=3)\n",
    "\n",
    "cm = confusion_matrix(ys_test, labels_train_pred)\n",
    "precision = precision_score(ys_test, labels_train_pred) \n",
    "recall = recall_score(ys_test, labels_train_pred)\n",
    "\n",
    "scaler = StandardScaler() \n",
    "landmarks_train_scaled = scaler.fit_transform(np.array(xs_test).astype(\"float64\")) \n",
    "ConfusionMatrixDisplay.from_predictions(ys_test, labels_train_pred)\n",
    "plt.show()"
   ]
  },
  {
   "cell_type": "markdown",
   "metadata": {},
   "source": [
    "# Bagging Classifier Visualisation"
   ]
  },
  {
   "cell_type": "code",
   "execution_count": null,
   "metadata": {},
   "outputs": [],
   "source": [
    "from joblib import load\n",
    "from matplotlib import pyplot as plt\n",
    "from sklearn.calibration import cross_val_predict\n",
    "from sklearn.discriminant_analysis import StandardScaler\n",
    "from sklearn.metrics import ConfusionMatrixDisplay, confusion_matrix, precision_score, recall_score\n",
    "from sklearn.model_selection import RandomizedSearchCV\n",
    "\n",
    "bag_clf:RandomizedSearchCV = load('dynamic_bc.joblib')\n",
    "\n",
    "labels_train_pred = cross_val_predict(bag_clf, xs_test, ys_test, cv=3)\n",
    "\n",
    "cm = confusion_matrix(ys_test, labels_train_pred)\n",
    "precision = precision_score(ys_test, labels_train_pred) \n",
    "recall = recall_score(ys_test, labels_train_pred)\n",
    "\n",
    "scaler = StandardScaler() \n",
    "landmarks_train_scaled = scaler.fit_transform(np.array(xs_test).astype(\"float64\")) \n",
    "ConfusionMatrixDisplay.from_predictions(ys_test, labels_train_pred)\n",
    "plt.show()"
   ]
  }
 ],
 "metadata": {
  "kernelspec": {
   "display_name": ".venv",
   "language": "python",
   "name": "python3"
  },
  "language_info": {
   "name": "python",
   "version": "3.11.2"
  }
 },
 "nbformat": 4,
 "nbformat_minor": 2
}
