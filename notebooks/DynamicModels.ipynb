{
 "cells": [
  {
   "cell_type": "code",
   "execution_count": 1,
   "metadata": {},
   "outputs": [
    {
     "name": "stdout",
     "output_type": "stream",
     "text": [
      "🔥🔥 TrajectoryBuilder is now running in BERTRAM_MODE 🔥🔥\n"
     ]
    }
   ],
   "source": [
    "import numpy as np\n",
    "from sklearn.metrics import classification_report\n",
    "from sklearn.model_selection import RandomizedSearchCV\n",
    "\n",
    "from sign.CONST import AMOUNT_OF_KEYFRAMES\n",
    "\n",
    "from sign.training.load_data.dynamic_loader import DynamicLoader\n",
    "\n",
    "CSV_PATH = 'dyn_50_common_youtube_55p.csv'\n",
    "NUM_HANDS = 2\n",
    "\n",
    "dyna_lod = DynamicLoader(AMOUNT_OF_KEYFRAMES)\n",
    "training_data = dyna_lod.prepare_training_data(CSV_PATH)\n",
    "xs,ys,xs_test,ys_test = training_data.spliterino(random_state=1)\n"
   ]
  },
  {
   "cell_type": "markdown",
   "metadata": {},
   "source": [
    "# LogisticRegression"
   ]
  },
  {
   "cell_type": "code",
   "execution_count": 13,
   "metadata": {},
   "outputs": [
    {
     "data": {
      "text/plain": [
       "(LogisticRegression(C=930, max_iter=10000, random_state=42),\n",
       " 6,\n",
       " {'C': 930},\n",
       " 0.5352519009026157)"
      ]
     },
     "execution_count": 13,
     "metadata": {},
     "output_type": "execute_result"
    }
   ],
   "source": [
    "\n",
    "from sklearn.linear_model import LogisticRegression\n",
    "\n",
    "logistic_reg = LogisticRegression(random_state=42,max_iter=10000,C=90)\n",
    "parameters = {'C':range(1000,10000,200)}\n",
    "pre_clf = RandomizedSearchCV(logistic_reg,parameters,n_jobs=-1)\n",
    "pre_clf.fit(np.array(xs),ys)\n",
    "print(pre_clf.best_estimator_,pre_clf.best_index_,pre_clf.best_params_,pre_clf.best_score_)\n",
    "print(classification_report(ys_test,logistic_reg.predict(np.array(xs_test))))\n",
    "\n",
    "\n",
    "# Lav grid search hmm maybe?"
   ]
  },
  {
   "cell_type": "markdown",
   "metadata": {},
   "source": [
    "# SVC / SVM"
   ]
  },
  {
   "cell_type": "code",
   "execution_count": 3,
   "metadata": {},
   "outputs": [
    {
     "data": {
      "text/plain": [
       "(SVC(C=400.0, gamma=0.4, random_state=42),\n",
       " 0,\n",
       " {'gamma': 0.4, 'C': 400.0},\n",
       " 0.5751985724095497)"
      ]
     },
     "execution_count": 3,
     "metadata": {},
     "output_type": "execute_result"
    }
   ],
   "source": [
    "\n",
    "from sklearn.svm import SVC\n",
    "svc = SVC(random_state=42)\n",
    "parameters = {'C':[float(x) for x in range(0,2000,200)],\"gamma\":[x * 0.1 for x in range(0,51,1)]}\n",
    "pre_clf = RandomizedSearchCV(svc,parameters,n_jobs=-1)\n",
    "pre_clf.fit(np.array(xs),ys)\n",
    "print(pre_clf.best_estimator_,pre_clf.best_index_,pre_clf.best_params_,pre_clf.best_score_)\n",
    "print(classification_report(ys_test,svc.predict(np.array(xs_test))))\n",
    "\n"
   ]
  },
  {
   "cell_type": "markdown",
   "metadata": {},
   "source": [
    "# Random Forest Classifier"
   ]
  },
  {
   "cell_type": "code",
   "execution_count": null,
   "metadata": {},
   "outputs": [],
   "source": [
    "\n",
    "from sklearn.ensemble import RandomForestClassifier\n",
    "\n",
    "random_forest = RandomForestClassifier()\n",
    "parameters = {\"max_features\":[\"sqrt\",\"log2\"],\"n_estimators\":range(100,1001,100)}\n",
    "pre_clf = RandomizedSearchCV(random_forest,parameters)\n",
    "pre_clf.fit(np.array(xs),ys)\n",
    "print(pre_clf.best_estimator_,pre_clf.best_index_,pre_clf.best_params_,pre_clf.best_score_)\n",
    "print(classification_report(ys_test,random_forest.predict(np.array(xs_test))))\n",
    "\n"
   ]
  },
  {
   "cell_type": "markdown",
   "metadata": {},
   "source": [
    "# Voting Classifier"
   ]
  },
  {
   "cell_type": "code",
   "execution_count": 3,
   "metadata": {},
   "outputs": [],
   "source": [
    "from sklearn.ensemble import VotingClassifier\n",
    "\n",
    "voting_clf = VotingClassifier( estimators=[ \n",
    "                                           ('lr', LogisticRegression(C=930.0,max_iter=10_000)), \n",
    "                                           ('rf', RandomForestClassifier(random_state=42,n_estimators=500,max_features=\"sqrt\")), \n",
    "                                           ('svc', SVC(random_state=42,probability=True,gamma=0.4,C=400.0))\n",
    "]) \n",
    "parameters = {\"voting\":[\"hard\",\"soft\"]}\n",
    "pre_clf = RandomizedSearchCV(voting_clf,parameters,n_jobs=2)\n",
    "pre_clf.fit(np.array(xs),ys)\n",
    "print(\"VotingClassifier\")\n",
    "print(pre_clf.best_estimator_,pre_clf.best_index_,pre_clf.best_params_,pre_clf.best_score_)\n",
    "print(classification_report(ys_test,voting_clf.predict(xs_test)))\n"
   ]
  },
  {
   "cell_type": "markdown",
   "metadata": {},
   "source": [
    "# Bagging Classifier"
   ]
  },
  {
   "cell_type": "code",
   "execution_count": null,
   "metadata": {},
   "outputs": [],
   "source": [
    "from sklearn.ensemble import BaggingClassifier\n",
    "\n",
    "bagging_clf = BaggingClassifier(estimator=[ \n",
    "                                           ('lr', LogisticRegression(C=930.0,max_iter=10_000)), \n",
    "                                           ('rf', RandomForestClassifier(random_state=42,n_estimators=500,max_features=\"sqrt\")), \n",
    "                                           ('svc', SVC(random_state=42,probability=True,gamma=0.4,C=400.0))\n",
    "]) \n",
    "bagging_clf.fit(xs, ys)\n",
    "\n",
    "parameters = {\"voting\":[\"hard\",\"soft\"]}\n",
    "pre_clf = RandomizedSearchCV(bagging_clf,parameters,n_jobs=-1)\n",
    "pre_clf.fit(np.array(xs),ys)\n",
    "print(\"VotingClassifier\")\n",
    "print(pre_clf.best_estimator_,pre_clf.best_index_,pre_clf.best_params_,pre_clf.best_score_)\n",
    "print(classification_report(ys_test,bagging_clf.predict(xs_test)))\n"
   ]
  }
 ],
 "metadata": {
  "kernelspec": {
   "display_name": ".venv",
   "language": "python",
   "name": "python3"
  },
  "language_info": {
   "codemirror_mode": {
    "name": "ipython",
    "version": 3
   },
   "file_extension": ".py",
   "mimetype": "text/x-python",
   "name": "python",
   "nbconvert_exporter": "python",
   "pygments_lexer": "ipython3",
   "version": "3.11.2"
  }
 },
 "nbformat": 4,
 "nbformat_minor": 2
}
