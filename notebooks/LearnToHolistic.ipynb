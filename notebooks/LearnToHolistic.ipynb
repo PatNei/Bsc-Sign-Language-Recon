{
 "cells": [
  {
   "cell_type": "markdown",
   "metadata": {},
   "source": [
    "# Learning To use the Bible"
   ]
  },
  {
   "cell_type": "markdown",
   "metadata": {},
   "source": [
    "## Using Holistic on an image"
   ]
  },
  {
   "cell_type": "code",
   "execution_count": 9,
   "metadata": {},
   "outputs": [
    {
     "name": "stderr",
     "output_type": "stream",
     "text": [
      "2024-04-06 15:55:57.293010: I tensorflow/core/util/port.cc:113] oneDNN custom operations are on. You may see slightly different numerical results due to floating-point round-off errors from different computation orders. To turn them off, set the environment variable `TF_ENABLE_ONEDNN_OPTS=0`.\n",
      "2024-04-06 15:55:57.293443: I external/local_tsl/tsl/cuda/cudart_stub.cc:32] Could not find cuda drivers on your machine, GPU will not be used.\n",
      "2024-04-06 15:55:57.295864: I external/local_tsl/tsl/cuda/cudart_stub.cc:32] Could not find cuda drivers on your machine, GPU will not be used.\n",
      "2024-04-06 15:55:57.328423: I tensorflow/core/platform/cpu_feature_guard.cc:210] This TensorFlow binary is optimized to use available CPU instructions in performance-critical operations.\n",
      "To enable the following instructions: AVX2 AVX512F AVX512_VNNI FMA, in other operations, rebuild TensorFlow with the appropriate compiler flags.\n",
      "2024-04-06 15:55:58.265199: W tensorflow/compiler/tf2tensorrt/utils/py_utils.cc:38] TF-TRT Warning: Could not find TensorRT\n",
      "WARNING: All log messages before absl::InitializeLog() is called are written to STDERR\n",
      "I0000 00:00:1712411759.160625   76593 gl_context_egl.cc:85] Successfully initialized EGL. Major : 1 Minor: 5\n",
      "I0000 00:00:1712411759.162745   78477 gl_context.cc:344] GL version: 3.2 (OpenGL ES 3.2 Mesa 23.3.2-1pop0~1704238321~22.04~36f1d0e), renderer: Mesa Intel(R) Xe Graphics (TGL GT2)\n",
      "INFO: Created TensorFlow Lite XNNPACK delegate for CPU.\n"
     ]
    },
    {
     "data": {
      "text/plain": [
       "PosixPath('/home/chobbie/Desktop/bach/Bsc-Sign-Language-Recon/notebooks/csvs')"
      ]
     },
     "execution_count": 9,
     "metadata": {},
     "output_type": "execute_result"
    }
   ],
   "source": [
    "from sign.training.landmark_extraction.HolisticPiper import HolisticPiper\n",
    "from pathlib import Path\n",
    "\n",
    "FRAMES_PATH = \"../backend/dynamic_signs/frames\"\n",
    "OUT_PATH = Path().cwd().absolute().joinpath(\"csvs\")\n",
    "OUT_PATH_STR = str(OUT_PATH.absolute())\n",
    "if not OUT_PATH.exists():\n",
    "    OUT_PATH.mkdir()\n",
    "\n",
    "piper = HolisticPiper(out_dest=OUT_PATH)\n",
    "\n",
    "piper.write_dynamic_gestures_from_folder_to_csv(FRAMES_PATH, \"\", \"\")\n",
    "piper.out_dest"
   ]
  },
  {
   "cell_type": "code",
   "execution_count": 10,
   "metadata": {},
   "outputs": [
    {
     "data": {
      "text/plain": [
       "'Parsed 2 classes'"
      ]
     },
     "execution_count": 10,
     "metadata": {},
     "output_type": "execute_result"
    }
   ],
   "source": [
    "from sign.training.load_data.HolisticCsvReader import HoslisticCsvReader\n",
    "\n",
    "reader = HoslisticCsvReader()\n",
    "result = reader.extract_holistic_landmarks_from_folder(OUT_PATH_STR)\n",
    "f\"Parsed {len(result)} classes\"\n",
    "#first_class = list(result.keys())[1]\n",
    "#len(result[first_class]), first_class"
   ]
  },
  {
   "cell_type": "code",
   "execution_count": null,
   "metadata": {},
   "outputs": [],
   "source": [
    "## BORROW FROM DYNAMIC GESTURE\n",
    "from random import shuffle\n",
    "import numpy as np\n",
    "from typing import Iterable, Tuple, TypeVar\n",
    "from sign.trajectory import TrajectoryBuilder\n",
    "from sign.landmarks import NormalizedLandmark, pre_process_landmark, calc_landmark_list\n",
    "from dynamic_signs.csv_reader import csv_reader\n",
    "from sklearn.model_selection import train_test_split\n",
    "bob = TrajectoryBuilder(target_len=24)\n",
    "\n",
    "\n",
    "def shuffle_training_data(data: Iterable, labels: Iterable) -> Tuple[Iterable,Iterable]:\n",
    "    zipped = list(zip(data, labels))\n",
    "    shuffle(zipped)\n",
    "    return tuple(zip(*zipped))\n",
    "    \n",
    "\n",
    "def extract_training_data_and_labels_from_dynamic_gesture_map(gesture_map: dict[str, list[np.ndarray]]) -> Tuple[Iterable[np.ndarray], Iterable[str]]:\n",
    "    trajectories_and_landmarks: list[np.ndarray] = []\n",
    "    labels : list[str] = []\n",
    "    for label, label_data in gesture_map.items():\n",
    "        for data in label_data:\n",
    "            labels.append(label)\n",
    "            trajectories_and_landmarks.append(data)\n",
    "    return shuffle_training_data(trajectories_and_landmarks, labels)\n",
    "\n",
    "def prune_training_data_and_labels_from_dynamic_gesture_csv(input: dict[str, dict[int, list[float]]]) -> dict[str, list[np.ndarray]]:\n",
    "    target_length = 24*3*21\n",
    "    bob = TrajectoryBuilder(target_len=target_length)\n",
    "    res: dict[str, list[np.ndarray]] = {}\n",
    "    for label, videos in input.items():\n",
    "        for id, frames in videos.items():\n",
    "            if len(frames) == 0:\n",
    "                print(f\"{label}-{id} is empty - SKIPPING\")\n",
    "                continue\n",
    "            existing = res.get(label)\n",
    "            if len(frames) < target_length:\n",
    "                frames = bob.pad_sequences_of_landmarks(frames)\n",
    "            else: \n",
    "                frames = bob.extract_keyframes_sample(frames)\n",
    "            frames = np.array(frames)\n",
    "            if existing is not None:\n",
    "                existing.append(frames)\n",
    "            else:\n",
    "                res[label] = [frames]\n",
    "                \n",
    "    return res\n",
    "\n",
    "def extract_left_hand_landmarks_from_holistic(dict: dict[str, dict[int, HolisticSequence]]) -> dict[str, dict[int, list[float]]]:\n",
    "    res = {}\n",
    "    for label, video_id_to_holistic_seq in dict.items():\n",
    "        res[label] = {} \n",
    "        for id, holy_seq in video_id_to_holistic_seq.items():\n",
    "            if len(holy_seq[\"left_hand\"]) > 0:\n",
    "                res[label][id] = holy_seq[\"left_hand\"]\n",
    "            elif len(holy_seq[\"right_hand\"]) > 0:\n",
    "                res[label][id] = holy_seq[\"right_hand\"]\n",
    "            #else --> Do nothing!!??\n",
    "            \n",
    "    return res\n",
    "\n",
    "def extract_training_data_and_labels_from_dynamic_gesture_csv() -> Tuple[Iterable[np.ndarray], Iterable[str]]:\n",
    "    unpruned = reader.extract_holistic_landmarks_from_folder(OUT_PATH_STR)\n",
    "    unpruned = extract_left_hand_landmarks_from_holistic(unpruned)\n",
    "    pruned = prune_training_data_and_labels_from_dynamic_gesture_csv(unpruned)\n",
    "    normalized_landmarks = {}\n",
    "    \n",
    "    for key, val in pruned.items():\n",
    "        for seq in val:\n",
    "            trajectory = bob.make_trajectory(seq.reshape(-1, 21, 3))\n",
    "            landmarks = []\n",
    "            for i in range(0, len(seq), 3):\n",
    "                landmark = NormalizedLandmark()\n",
    "                landmark.x = seq[i]\n",
    "                landmark.y = seq[i+1]\n",
    "                landmark.z = seq[i+2]\n",
    "                landmarks.append(landmark)\n",
    "            normalized_landmarks_for_video = pre_process_landmark(calc_landmark_list(landmarks))\n",
    "            existing = normalized_landmarks.get(key)\n",
    "            asd = trajectory.to_float_list()\n",
    "            asd.extend(normalized_landmarks_for_video)\n",
    "            with_trajectories = np.array(asd)\n",
    "            \n",
    "            if existing is None:\n",
    "                normalized_landmarks[key] = [with_trajectories]\n",
    "            else:\n",
    "                existing.append(with_trajectories)\n",
    "    return extract_training_data_and_labels_from_dynamic_gesture_map(normalized_landmarks)\n",
    "\n",
    "extracted_data,extracted_labels = extract_training_data_and_labels_from_dynamic_gesture_csv()\n",
    "\n",
    "shapes = list(map(lambda arr : arr.shape ,extracted_data))\n",
    "first = extracted_data[0].shape\n",
    "f\"Shape of first {first}. Do all data have this shape? '{'Yes' if all(first == s for s in shapes) else 'No'}'\""
   ]
  },
  {
   "cell_type": "code",
   "execution_count": null,
   "metadata": {},
   "outputs": [],
   "source": [
    "#Holistic on one-armed-bandit looking for hands- Holy nation approves of this one \n",
    "from sklearn.svm import SVC\n",
    "from sklearn.preprocessing import StandardScaler\n",
    "from sklearn.pipeline import make_pipeline\n",
    "\n",
    "labels_J = (np.array(extracted_labels, dtype=np.str_) == \"J\")\n",
    "model_J_or_not = make_pipeline(StandardScaler(),\n",
    "                          SVC(kernel=\"poly\", degree=6, coef0=1))\n",
    "model_J_or_not.fit(extracted_data, labels_J)\n",
    "\n",
    "if False:\n",
    "    from joblib import dump\n",
    "    dump(model_svm, 'dynamic_model.joblib')\n",
    "model_J_or_not"
   ]
  },
  {
   "cell_type": "code",
   "execution_count": null,
   "metadata": {},
   "outputs": [],
   "source": [
    "# ABSOLUTE WORST TEST, please correct me :3\n",
    "toPredict = [extracted_data[0]]\n",
    "true_label = labels_J[0]\n",
    "print(f\"Is J?\\n  Predicted: {model_J_or_not.predict(toPredict)[0]}\\n  Should be: {true_label}\")"
   ]
  },
  {
   "cell_type": "code",
   "execution_count": null,
   "metadata": {},
   "outputs": [],
   "source": []
  }
 ],
 "metadata": {
  "kernelspec": {
   "display_name": ".venv",
   "language": "python",
   "name": "python3"
  },
  "language_info": {
   "codemirror_mode": {
    "name": "ipython",
    "version": 3
   },
   "file_extension": ".py",
   "mimetype": "text/x-python",
   "name": "python",
   "nbconvert_exporter": "python",
   "pygments_lexer": "ipython3",
   "version": "3.11.8"
  }
 },
 "nbformat": 4,
 "nbformat_minor": 2
}
